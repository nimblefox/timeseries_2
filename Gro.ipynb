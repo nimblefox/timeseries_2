{
 "cells": [
  {
   "cell_type": "code",
   "execution_count": 1,
   "id": "c02d6d0c",
   "metadata": {},
   "outputs": [],
   "source": [
    "import pandas as pd"
   ]
  },
  {
   "cell_type": "code",
   "execution_count": 2,
   "id": "e86dd4e5",
   "metadata": {},
   "outputs": [],
   "source": [
    "# loading the data\n",
    "\n",
    "production = pd.read_csv(\"Production Quantity.csv\")\n",
    "precipitation = pd.read_csv(\"Daily precipitation.csv\")\n",
    "soil_moisture = pd.read_csv(\"Daily Soil Mositure.csv\")\n",
    "Temperature = pd.read_csv(\"Daily Temperature.csv\")\n",
    "ndvi = pd.read_csv(\"Eight day NDVI.csv\")\n",
    "preduction = pd.read_csv(\"predicted_production_qty.csv\")\n",
    "\n",
    "listx = [production, precipitation, soil_moisture, Temperature, ndvi, preduction]"
   ]
  },
  {
   "cell_type": "code",
   "execution_count": 3,
   "id": "2879ac1d",
   "metadata": {},
   "outputs": [
    {
     "data": {
      "text/plain": [
       "(720, 29940, 29603, 12930, 3338, 120)"
      ]
     },
     "execution_count": 3,
     "metadata": {},
     "output_type": "execute_result"
    }
   ],
   "source": [
    "len(production), len(precipitation), len(soil_moisture), len(Temperature), len(ndvi), len(preduction)\n",
    "\n",
    "# precipitation - daily for 10 regions with precp - 29940\n",
    "# soil_moisture - daily for 10 regions with soil - 29603\n",
    "# Temperature - 12930\n",
    "# ndvi - 3338\n",
    "# production - monthly for 10 regions with qty - 720\n",
    "# preduction - 120"
   ]
  },
  {
   "cell_type": "code",
   "execution_count": 4,
   "id": "b8d621e2",
   "metadata": {},
   "outputs": [],
   "source": [
    "# start and end date modification and sorting\n",
    "\n",
    "for df in listx :\n",
    "    df['start_date'] = df['start_date'].str[:10]\n",
    "    df['end_date'] = df['end_date'].str[:10]\n",
    "    #df[\"composite\"] = df[\"start_date\"] + df[\"region_id\"].astype(str)\n",
    "    df[[\"start_date\", \"end_date\"]] = df[[\"start_date\", \"end_date\"]].apply(pd.to_datetime)\n",
    "    df = df.sort_values(by='start_date', ascending=True)"
   ]
  },
  {
   "cell_type": "code",
   "execution_count": 5,
   "id": "974b01a0",
   "metadata": {},
   "outputs": [],
   "source": [
    "# splitting date to Year, Month and Day and dropping other dates\n",
    "\n",
    "import datetime\n",
    "from datetime import date\n",
    "\n",
    "for df in listx :\n",
    "    df['Year'] = df['start_date'].dt.year\n",
    "    df['Month'] = df['start_date'].dt.month\n",
    "    df['Day'] = df['start_date'].dt.day\n",
    "    df.drop(['start_date', 'end_date'], axis=1, inplace=True)"
   ]
  },
  {
   "cell_type": "code",
   "execution_count": 6,
   "id": "cdcd9b08",
   "metadata": {},
   "outputs": [
    {
     "data": {
      "text/html": [
       "<div>\n",
       "<style scoped>\n",
       "    .dataframe tbody tr th:only-of-type {\n",
       "        vertical-align: middle;\n",
       "    }\n",
       "\n",
       "    .dataframe tbody tr th {\n",
       "        vertical-align: top;\n",
       "    }\n",
       "\n",
       "    .dataframe thead th {\n",
       "        text-align: right;\n",
       "    }\n",
       "</style>\n",
       "<table border=\"1\" class=\"dataframe\">\n",
       "  <thead>\n",
       "    <tr style=\"text-align: right;\">\n",
       "      <th></th>\n",
       "      <th>precip</th>\n",
       "      <th>region_id</th>\n",
       "      <th>Year</th>\n",
       "      <th>Month</th>\n",
       "      <th>Day</th>\n",
       "    </tr>\n",
       "  </thead>\n",
       "  <tbody>\n",
       "    <tr>\n",
       "      <th>0</th>\n",
       "      <td>1.392393</td>\n",
       "      <td>93</td>\n",
       "      <td>2014</td>\n",
       "      <td>1</td>\n",
       "      <td>1</td>\n",
       "    </tr>\n",
       "    <tr>\n",
       "      <th>1</th>\n",
       "      <td>0.315380</td>\n",
       "      <td>93</td>\n",
       "      <td>2014</td>\n",
       "      <td>1</td>\n",
       "      <td>2</td>\n",
       "    </tr>\n",
       "    <tr>\n",
       "      <th>2</th>\n",
       "      <td>2.347846</td>\n",
       "      <td>93</td>\n",
       "      <td>2014</td>\n",
       "      <td>1</td>\n",
       "      <td>3</td>\n",
       "    </tr>\n",
       "    <tr>\n",
       "      <th>3</th>\n",
       "      <td>21.466357</td>\n",
       "      <td>93</td>\n",
       "      <td>2014</td>\n",
       "      <td>1</td>\n",
       "      <td>4</td>\n",
       "    </tr>\n",
       "    <tr>\n",
       "      <th>4</th>\n",
       "      <td>32.823651</td>\n",
       "      <td>93</td>\n",
       "      <td>2014</td>\n",
       "      <td>1</td>\n",
       "      <td>5</td>\n",
       "    </tr>\n",
       "  </tbody>\n",
       "</table>\n",
       "</div>"
      ],
      "text/plain": [
       "      precip  region_id  Year  Month  Day\n",
       "0   1.392393         93  2014      1    1\n",
       "1   0.315380         93  2014      1    2\n",
       "2   2.347846         93  2014      1    3\n",
       "3  21.466357         93  2014      1    4\n",
       "4  32.823651         93  2014      1    5"
      ]
     },
     "execution_count": 6,
     "metadata": {},
     "output_type": "execute_result"
    }
   ],
   "source": [
    "precipitation.head()"
   ]
  },
  {
   "cell_type": "code",
   "execution_count": 7,
   "id": "726c126e",
   "metadata": {},
   "outputs": [],
   "source": [
    "precipitation['precip_new'] = precipitation.groupby(['region_id', 'Year', 'Month'])[[\"precip\"]].transform('mean')\n",
    "precipitation.drop('precip', axis=1, inplace=True)\n",
    "#precipitation = precipitation.loc[precipitation['Day'] == 1] -- old strategy, doesnt work for other tables"
   ]
  },
  {
   "cell_type": "code",
   "execution_count": 8,
   "id": "a62a29f3",
   "metadata": {},
   "outputs": [
    {
     "data": {
      "text/html": [
       "<div>\n",
       "<style scoped>\n",
       "    .dataframe tbody tr th:only-of-type {\n",
       "        vertical-align: middle;\n",
       "    }\n",
       "\n",
       "    .dataframe tbody tr th {\n",
       "        vertical-align: top;\n",
       "    }\n",
       "\n",
       "    .dataframe thead th {\n",
       "        text-align: right;\n",
       "    }\n",
       "</style>\n",
       "<table border=\"1\" class=\"dataframe\">\n",
       "  <thead>\n",
       "    <tr style=\"text-align: right;\">\n",
       "      <th></th>\n",
       "      <th>region_id</th>\n",
       "      <th>Year</th>\n",
       "      <th>Month</th>\n",
       "      <th>Day</th>\n",
       "      <th>precip_new</th>\n",
       "    </tr>\n",
       "  </thead>\n",
       "  <tbody>\n",
       "    <tr>\n",
       "      <th>0</th>\n",
       "      <td>93</td>\n",
       "      <td>2014</td>\n",
       "      <td>1</td>\n",
       "      <td>1</td>\n",
       "      <td>2.541758</td>\n",
       "    </tr>\n",
       "    <tr>\n",
       "      <th>1</th>\n",
       "      <td>93</td>\n",
       "      <td>2014</td>\n",
       "      <td>1</td>\n",
       "      <td>2</td>\n",
       "      <td>2.541758</td>\n",
       "    </tr>\n",
       "    <tr>\n",
       "      <th>2</th>\n",
       "      <td>93</td>\n",
       "      <td>2014</td>\n",
       "      <td>1</td>\n",
       "      <td>3</td>\n",
       "      <td>2.541758</td>\n",
       "    </tr>\n",
       "    <tr>\n",
       "      <th>3</th>\n",
       "      <td>93</td>\n",
       "      <td>2014</td>\n",
       "      <td>1</td>\n",
       "      <td>4</td>\n",
       "      <td>2.541758</td>\n",
       "    </tr>\n",
       "    <tr>\n",
       "      <th>4</th>\n",
       "      <td>93</td>\n",
       "      <td>2014</td>\n",
       "      <td>1</td>\n",
       "      <td>5</td>\n",
       "      <td>2.541758</td>\n",
       "    </tr>\n",
       "  </tbody>\n",
       "</table>\n",
       "</div>"
      ],
      "text/plain": [
       "   region_id  Year  Month  Day  precip_new\n",
       "0         93  2014      1    1    2.541758\n",
       "1         93  2014      1    2    2.541758\n",
       "2         93  2014      1    3    2.541758\n",
       "3         93  2014      1    4    2.541758\n",
       "4         93  2014      1    5    2.541758"
      ]
     },
     "execution_count": 8,
     "metadata": {},
     "output_type": "execute_result"
    }
   ],
   "source": [
    "precipitation.head()"
   ]
  },
  {
   "cell_type": "code",
   "execution_count": 9,
   "id": "b0167388",
   "metadata": {},
   "outputs": [
    {
     "data": {
      "text/html": [
       "<div>\n",
       "<style scoped>\n",
       "    .dataframe tbody tr th:only-of-type {\n",
       "        vertical-align: middle;\n",
       "    }\n",
       "\n",
       "    .dataframe tbody tr th {\n",
       "        vertical-align: top;\n",
       "    }\n",
       "\n",
       "    .dataframe thead th {\n",
       "        text-align: right;\n",
       "    }\n",
       "</style>\n",
       "<table border=\"1\" class=\"dataframe\">\n",
       "  <thead>\n",
       "    <tr style=\"text-align: right;\">\n",
       "      <th></th>\n",
       "      <th>region_id</th>\n",
       "      <th>Year</th>\n",
       "      <th>Month</th>\n",
       "      <th>Day</th>\n",
       "      <th>precip_new</th>\n",
       "    </tr>\n",
       "  </thead>\n",
       "  <tbody>\n",
       "    <tr>\n",
       "      <th>0</th>\n",
       "      <td>93</td>\n",
       "      <td>2014</td>\n",
       "      <td>1</td>\n",
       "      <td>1</td>\n",
       "      <td>2.541758</td>\n",
       "    </tr>\n",
       "    <tr>\n",
       "      <th>31</th>\n",
       "      <td>93</td>\n",
       "      <td>2014</td>\n",
       "      <td>2</td>\n",
       "      <td>1</td>\n",
       "      <td>0.326015</td>\n",
       "    </tr>\n",
       "    <tr>\n",
       "      <th>59</th>\n",
       "      <td>93</td>\n",
       "      <td>2014</td>\n",
       "      <td>3</td>\n",
       "      <td>1</td>\n",
       "      <td>6.208490</td>\n",
       "    </tr>\n",
       "    <tr>\n",
       "      <th>90</th>\n",
       "      <td>93</td>\n",
       "      <td>2014</td>\n",
       "      <td>4</td>\n",
       "      <td>1</td>\n",
       "      <td>10.433339</td>\n",
       "    </tr>\n",
       "    <tr>\n",
       "      <th>120</th>\n",
       "      <td>93</td>\n",
       "      <td>2014</td>\n",
       "      <td>5</td>\n",
       "      <td>1</td>\n",
       "      <td>9.160731</td>\n",
       "    </tr>\n",
       "  </tbody>\n",
       "</table>\n",
       "</div>"
      ],
      "text/plain": [
       "     region_id  Year  Month  Day  precip_new\n",
       "0           93  2014      1    1    2.541758\n",
       "31          93  2014      2    1    0.326015\n",
       "59          93  2014      3    1    6.208490\n",
       "90          93  2014      4    1   10.433339\n",
       "120         93  2014      5    1    9.160731"
      ]
     },
     "execution_count": 9,
     "metadata": {},
     "output_type": "execute_result"
    }
   ],
   "source": [
    "# dropping duplicates and preserving only 1 record for each month \n",
    "\n",
    "precipitation = precipitation.drop_duplicates(subset=['region_id', 'Year', 'Month'])\n",
    "precipitation.head()"
   ]
  },
  {
   "cell_type": "code",
   "execution_count": 10,
   "id": "8d6ce579",
   "metadata": {},
   "outputs": [],
   "source": [
    "# same strategy on other tables\n",
    "\n",
    "soil_moisture['smos_new'] = soil_moisture.groupby(['region_id', 'Year', 'Month'])[[\"smos\"]].transform('mean')\n",
    "soil_moisture.drop('smos', axis=1, inplace=True)\n",
    "soil_moisture = soil_moisture.drop_duplicates(subset=['region_id', 'Year', 'Month'])\n",
    "\n",
    "Temperature['temp_new'] = Temperature.groupby(['region_id', 'Year', 'Month'])[[\"temp\"]].transform('mean')\n",
    "Temperature.drop('temp', axis=1, inplace=True)\n",
    "Temperature = Temperature.drop_duplicates(subset=['region_id', 'Year', 'Month'])\n",
    "\n",
    "ndvi['ndvi_new'] = ndvi.groupby(['region_id', 'Year', 'Month'])[[\"ndvi\"]].transform('mean')\n",
    "ndvi.drop('ndvi', axis=1, inplace=True)\n",
    "ndvi = ndvi.drop_duplicates(subset=['region_id', 'Year', 'Month'])"
   ]
  },
  {
   "cell_type": "code",
   "execution_count": 11,
   "id": "8acc960d",
   "metadata": {},
   "outputs": [
    {
     "data": {
      "text/plain": [
       "(720, 990, 990, 990, 993, 120)"
      ]
     },
     "execution_count": 11,
     "metadata": {},
     "output_type": "execute_result"
    }
   ],
   "source": [
    "len(production), len(precipitation), len(soil_moisture), len(Temperature), len(ndvi), len(preduction)"
   ]
  },
  {
   "cell_type": "code",
   "execution_count": 12,
   "id": "4f7b1658",
   "metadata": {},
   "outputs": [
    {
     "name": "stderr",
     "output_type": "stream",
     "text": [
      "C:\\Users\\skfar\\AppData\\Local\\Temp\\ipykernel_39644\\578692725.py:1: SettingWithCopyWarning: \n",
      "A value is trying to be set on a copy of a slice from a DataFrame.\n",
      "Try using .loc[row_indexer,col_indexer] = value instead\n",
      "\n",
      "See the caveats in the documentation: https://pandas.pydata.org/pandas-docs/stable/user_guide/indexing.html#returning-a-view-versus-a-copy\n",
      "  precipitation['Date'] = pd.to_datetime(precipitation[['Year', 'Month', 'Day']])\n"
     ]
    }
   ],
   "source": [
    "precipitation['Date'] = pd.to_datetime(precipitation[['Year', 'Month', 'Day']])"
   ]
  },
  {
   "cell_type": "code",
   "execution_count": 13,
   "id": "5a13a30f",
   "metadata": {},
   "outputs": [
    {
     "data": {
      "text/html": [
       "<div>\n",
       "<style scoped>\n",
       "    .dataframe tbody tr th:only-of-type {\n",
       "        vertical-align: middle;\n",
       "    }\n",
       "\n",
       "    .dataframe tbody tr th {\n",
       "        vertical-align: top;\n",
       "    }\n",
       "\n",
       "    .dataframe thead th {\n",
       "        text-align: right;\n",
       "    }\n",
       "</style>\n",
       "<table border=\"1\" class=\"dataframe\">\n",
       "  <thead>\n",
       "    <tr style=\"text-align: right;\">\n",
       "      <th></th>\n",
       "      <th>region_id</th>\n",
       "      <th>Year</th>\n",
       "      <th>Month</th>\n",
       "      <th>Day</th>\n",
       "      <th>precip_new</th>\n",
       "      <th>Date</th>\n",
       "    </tr>\n",
       "  </thead>\n",
       "  <tbody>\n",
       "    <tr>\n",
       "      <th>0</th>\n",
       "      <td>93</td>\n",
       "      <td>2014</td>\n",
       "      <td>1</td>\n",
       "      <td>1</td>\n",
       "      <td>2.541758</td>\n",
       "      <td>2014-01-01</td>\n",
       "    </tr>\n",
       "    <tr>\n",
       "      <th>31</th>\n",
       "      <td>93</td>\n",
       "      <td>2014</td>\n",
       "      <td>2</td>\n",
       "      <td>1</td>\n",
       "      <td>0.326015</td>\n",
       "      <td>2014-02-01</td>\n",
       "    </tr>\n",
       "    <tr>\n",
       "      <th>59</th>\n",
       "      <td>93</td>\n",
       "      <td>2014</td>\n",
       "      <td>3</td>\n",
       "      <td>1</td>\n",
       "      <td>6.208490</td>\n",
       "      <td>2014-03-01</td>\n",
       "    </tr>\n",
       "    <tr>\n",
       "      <th>90</th>\n",
       "      <td>93</td>\n",
       "      <td>2014</td>\n",
       "      <td>4</td>\n",
       "      <td>1</td>\n",
       "      <td>10.433339</td>\n",
       "      <td>2014-04-01</td>\n",
       "    </tr>\n",
       "    <tr>\n",
       "      <th>120</th>\n",
       "      <td>93</td>\n",
       "      <td>2014</td>\n",
       "      <td>5</td>\n",
       "      <td>1</td>\n",
       "      <td>9.160731</td>\n",
       "      <td>2014-05-01</td>\n",
       "    </tr>\n",
       "  </tbody>\n",
       "</table>\n",
       "</div>"
      ],
      "text/plain": [
       "     region_id  Year  Month  Day  precip_new       Date\n",
       "0           93  2014      1    1    2.541758 2014-01-01\n",
       "31          93  2014      2    1    0.326015 2014-02-01\n",
       "59          93  2014      3    1    6.208490 2014-03-01\n",
       "90          93  2014      4    1   10.433339 2014-04-01\n",
       "120         93  2014      5    1    9.160731 2014-05-01"
      ]
     },
     "execution_count": 13,
     "metadata": {},
     "output_type": "execute_result"
    }
   ],
   "source": [
    "precipitation.head()"
   ]
  },
  {
   "cell_type": "code",
   "execution_count": 14,
   "id": "0a72dea1",
   "metadata": {},
   "outputs": [
    {
     "name": "stderr",
     "output_type": "stream",
     "text": [
      "C:\\Users\\skfar\\AppData\\Local\\Temp\\ipykernel_39644\\477441692.py:1: SettingWithCopyWarning: \n",
      "A value is trying to be set on a copy of a slice from a DataFrame.\n",
      "Try using .loc[row_indexer,col_indexer] = value instead\n",
      "\n",
      "See the caveats in the documentation: https://pandas.pydata.org/pandas-docs/stable/user_guide/indexing.html#returning-a-view-versus-a-copy\n",
      "  soil_moisture['Date'] = pd.to_datetime(soil_moisture[['Year', 'Month', 'Day']])\n",
      "C:\\Users\\skfar\\AppData\\Local\\Temp\\ipykernel_39644\\477441692.py:2: SettingWithCopyWarning: \n",
      "A value is trying to be set on a copy of a slice from a DataFrame.\n",
      "Try using .loc[row_indexer,col_indexer] = value instead\n",
      "\n",
      "See the caveats in the documentation: https://pandas.pydata.org/pandas-docs/stable/user_guide/indexing.html#returning-a-view-versus-a-copy\n",
      "  Temperature['Date'] = pd.to_datetime(Temperature[['Year', 'Month', 'Day']])\n",
      "C:\\Users\\skfar\\AppData\\Local\\Temp\\ipykernel_39644\\477441692.py:5: SettingWithCopyWarning: \n",
      "A value is trying to be set on a copy of a slice from a DataFrame.\n",
      "Try using .loc[row_indexer,col_indexer] = value instead\n",
      "\n",
      "See the caveats in the documentation: https://pandas.pydata.org/pandas-docs/stable/user_guide/indexing.html#returning-a-view-versus-a-copy\n",
      "  ndvi['Date'] = pd.to_datetime(ndvi[['Year', 'Month', 'Day']])\n"
     ]
    }
   ],
   "source": [
    "soil_moisture['Date'] = pd.to_datetime(soil_moisture[['Year', 'Month', 'Day']])\n",
    "Temperature['Date'] = pd.to_datetime(Temperature[['Year', 'Month', 'Day']])\n",
    "production['Date'] = pd.to_datetime(production[['Year', 'Month', 'Day']])\n",
    "preduction['Date'] = pd.to_datetime(preduction[['Year', 'Month', 'Day']])\n",
    "ndvi['Date'] = pd.to_datetime(ndvi[['Year', 'Month', 'Day']])"
   ]
  },
  {
   "cell_type": "code",
   "execution_count": 15,
   "id": "eee57058",
   "metadata": {},
   "outputs": [
    {
     "data": {
      "text/html": [
       "<div>\n",
       "<style scoped>\n",
       "    .dataframe tbody tr th:only-of-type {\n",
       "        vertical-align: middle;\n",
       "    }\n",
       "\n",
       "    .dataframe tbody tr th {\n",
       "        vertical-align: top;\n",
       "    }\n",
       "\n",
       "    .dataframe thead th {\n",
       "        text-align: right;\n",
       "    }\n",
       "</style>\n",
       "<table border=\"1\" class=\"dataframe\">\n",
       "  <thead>\n",
       "    <tr style=\"text-align: right;\">\n",
       "      <th></th>\n",
       "      <th>region_id</th>\n",
       "      <th>Year</th>\n",
       "      <th>Month</th>\n",
       "      <th>Day</th>\n",
       "      <th>ndvi_new</th>\n",
       "      <th>Date</th>\n",
       "    </tr>\n",
       "  </thead>\n",
       "  <tbody>\n",
       "    <tr>\n",
       "      <th>0</th>\n",
       "      <td>93</td>\n",
       "      <td>2013</td>\n",
       "      <td>12</td>\n",
       "      <td>27</td>\n",
       "      <td>0.679106</td>\n",
       "      <td>2013-12-27</td>\n",
       "    </tr>\n",
       "    <tr>\n",
       "      <th>1</th>\n",
       "      <td>93</td>\n",
       "      <td>2014</td>\n",
       "      <td>1</td>\n",
       "      <td>1</td>\n",
       "      <td>0.740574</td>\n",
       "      <td>2014-01-01</td>\n",
       "    </tr>\n",
       "    <tr>\n",
       "      <th>5</th>\n",
       "      <td>93</td>\n",
       "      <td>2014</td>\n",
       "      <td>2</td>\n",
       "      <td>2</td>\n",
       "      <td>0.766015</td>\n",
       "      <td>2014-02-02</td>\n",
       "    </tr>\n",
       "    <tr>\n",
       "      <th>9</th>\n",
       "      <td>93</td>\n",
       "      <td>2014</td>\n",
       "      <td>3</td>\n",
       "      <td>6</td>\n",
       "      <td>0.734051</td>\n",
       "      <td>2014-03-06</td>\n",
       "    </tr>\n",
       "    <tr>\n",
       "      <th>11</th>\n",
       "      <td>93</td>\n",
       "      <td>2014</td>\n",
       "      <td>4</td>\n",
       "      <td>7</td>\n",
       "      <td>0.807792</td>\n",
       "      <td>2014-04-07</td>\n",
       "    </tr>\n",
       "  </tbody>\n",
       "</table>\n",
       "</div>"
      ],
      "text/plain": [
       "    region_id  Year  Month  Day  ndvi_new       Date\n",
       "0          93  2013     12   27  0.679106 2013-12-27\n",
       "1          93  2014      1    1  0.740574 2014-01-01\n",
       "5          93  2014      2    2  0.766015 2014-02-02\n",
       "9          93  2014      3    6  0.734051 2014-03-06\n",
       "11         93  2014      4    7  0.807792 2014-04-07"
      ]
     },
     "execution_count": 15,
     "metadata": {},
     "output_type": "execute_result"
    }
   ],
   "source": [
    "ndvi.head()"
   ]
  },
  {
   "cell_type": "code",
   "execution_count": 16,
   "id": "b84b484c",
   "metadata": {},
   "outputs": [],
   "source": [
    "precipitation = precipitation[['region_id', 'precip_new', 'Date']]\n",
    "soil_moisture = soil_moisture[['region_id', 'smos_new', 'Date']]\n",
    "Temperature = Temperature[['region_id', 'temp_new', 'Date']]\n",
    "production = production[['region_id', 'prod', 'Date']]\n",
    "ndvi = ndvi[['region_id', 'ndvi_new', 'Date']]\n",
    "preduction = preduction[['region_id','prod','Date']]"
   ]
  },
  {
   "cell_type": "markdown",
   "id": "dc1b947a",
   "metadata": {},
   "source": [
    "## STrategy = outer"
   ]
  },
  {
   "cell_type": "code",
   "execution_count": 18,
   "id": "923772df",
   "metadata": {},
   "outputs": [
    {
     "name": "stdout",
     "output_type": "stream",
     "text": [
      "<class 'pandas.core.frame.DataFrame'>\n",
      "Int64Index: 2304 entries, 0 to 2303\n",
      "Data columns (total 7 columns):\n",
      " #   Column      Non-Null Count  Dtype         \n",
      "---  ------      --------------  -----         \n",
      " 0   region_id   2304 non-null   int64         \n",
      " 1   precip_new  990 non-null    float64       \n",
      " 2   Date        2304 non-null   datetime64[ns]\n",
      " 3   smos_new    990 non-null    float64       \n",
      " 4   temp_new    990 non-null    float64       \n",
      " 5   ndvi_new    993 non-null    float64       \n",
      " 6   prod        720 non-null    float64       \n",
      "dtypes: datetime64[ns](1), float64(5), int64(1)\n",
      "memory usage: 144.0 KB\n"
     ]
    }
   ],
   "source": [
    "combined = pd.merge(precipitation, soil_moisture, how=\"outer\", on=[\"Date\", 'region_id'])\n",
    "combined = pd.merge(combined, Temperature, how=\"outer\", on=[\"Date\", 'region_id'])\n",
    "combined = pd.merge(combined, ndvi, how=\"outer\", on=[\"Date\", 'region_id'])\n",
    "combined = pd.merge(combined, production, how=\"outer\", on=[\"Date\", 'region_id'])\n",
    "combined.info()"
   ]
  },
  {
   "cell_type": "code",
   "execution_count": 19,
   "id": "493fc627",
   "metadata": {},
   "outputs": [],
   "source": [
    "combined = combined.set_index(\"Date\")\n",
    "region_93 = combined.loc[combined['region_id'] == 93]"
   ]
  },
  {
   "cell_type": "code",
   "execution_count": 20,
   "id": "cacc5130",
   "metadata": {},
   "outputs": [
    {
     "data": {
      "text/plain": [
       "<AxesSubplot:xlabel='Date'>"
      ]
     },
     "execution_count": 20,
     "metadata": {},
     "output_type": "execute_result"
    },
    {
     "data": {
      "image/png": "[encoded data removed]",
      "text/plain": [
       "<Figure size 432x288 with 1 Axes>"
      ]
     },
     "metadata": {
      "needs_background": "light"
     },
     "output_type": "display_data"
    }
   ],
   "source": [
    "region_93.plot( y='precip_new')"
   ]
  },
  {
   "cell_type": "code",
   "execution_count": 77,
   "id": "6c6e2380",
   "metadata": {},
   "outputs": [
    {
     "data": {
      "text/plain": [
       "<AxesSubplot:xlabel='Date'>"
      ]
     },
     "execution_count": 77,
     "metadata": {},
     "output_type": "execute_result"
    },
    {
     "data": {
      "image/png": "[encoded data removed]",
      "text/plain": [
       "<Figure size 432x288 with 1 Axes>"
      ]
     },
     "metadata": {
      "needs_background": "light"
     },
     "output_type": "display_data"
    }
   ],
   "source": [
    "region_93.plot( y='smos_new')"
   ]
  },
  {
   "cell_type": "code",
   "execution_count": 78,
   "id": "7205a245",
   "metadata": {},
   "outputs": [
    {
     "data": {
      "text/plain": [
       "<AxesSubplot:xlabel='Date'>"
      ]
     },
     "execution_count": 78,
     "metadata": {},
     "output_type": "execute_result"
    },
    {
     "data": {
      "image/png": "[encoded data removed]",
      "text/plain": [
       "<Figure size 432x288 with 1 Axes>"
      ]
     },
     "metadata": {
      "needs_background": "light"
     },
     "output_type": "display_data"
    }
   ],
   "source": [
    "region_93.plot( y='temp_new')"
   ]
  },
  {
   "cell_type": "code",
   "execution_count": 79,
   "id": "1088ceeb",
   "metadata": {},
   "outputs": [
    {
     "data": {
      "text/plain": [
       "<AxesSubplot:xlabel='Date'>"
      ]
     },
     "execution_count": 79,
     "metadata": {},
     "output_type": "execute_result"
    },
    {
     "data": {
      "image/png": "[encoded data removed]",
      "text/plain": [
       "<Figure size 432x288 with 1 Axes>"
      ]
     },
     "metadata": {
      "needs_background": "light"
     },
     "output_type": "display_data"
    }
   ],
   "source": [
    "region_93.plot( y='prod')"
   ]
  },
  {
   "cell_type": "markdown",
   "id": "dfff104c",
   "metadata": {},
   "source": [
    "## Strategy = left"
   ]
  },
  {
   "cell_type": "code",
   "execution_count": 21,
   "id": "b033b283",
   "metadata": {},
   "outputs": [
    {
     "data": {
      "text/plain": [
       "(720, 990, 990, 990, 993, 120)"
      ]
     },
     "execution_count": 21,
     "metadata": {},
     "output_type": "execute_result"
    }
   ],
   "source": [
    "len(production), len(precipitation), len(soil_moisture), len(Temperature), len(ndvi), len(preduction)"
   ]
  },
  {
   "cell_type": "code",
   "execution_count": 22,
   "id": "0095ec11",
   "metadata": {},
   "outputs": [
    {
     "data": {
      "text/html": [
       "<div>\n",
       "<style scoped>\n",
       "    .dataframe tbody tr th:only-of-type {\n",
       "        vertical-align: middle;\n",
       "    }\n",
       "\n",
       "    .dataframe tbody tr th {\n",
       "        vertical-align: top;\n",
       "    }\n",
       "\n",
       "    .dataframe thead th {\n",
       "        text-align: right;\n",
       "    }\n",
       "</style>\n",
       "<table border=\"1\" class=\"dataframe\">\n",
       "  <thead>\n",
       "    <tr style=\"text-align: right;\">\n",
       "      <th></th>\n",
       "      <th>region_id</th>\n",
       "      <th>precip_new</th>\n",
       "      <th>Date</th>\n",
       "      <th>smos_new</th>\n",
       "      <th>temp_new</th>\n",
       "      <th>ndvi_new</th>\n",
       "      <th>prod</th>\n",
       "    </tr>\n",
       "  </thead>\n",
       "  <tbody>\n",
       "    <tr>\n",
       "      <th>0</th>\n",
       "      <td>93</td>\n",
       "      <td>2.541758</td>\n",
       "      <td>2014-01-01</td>\n",
       "      <td>0.287870</td>\n",
       "      <td>NaN</td>\n",
       "      <td>0.740574</td>\n",
       "      <td>NaN</td>\n",
       "    </tr>\n",
       "    <tr>\n",
       "      <th>1</th>\n",
       "      <td>93</td>\n",
       "      <td>0.326015</td>\n",
       "      <td>2014-02-01</td>\n",
       "      <td>0.272979</td>\n",
       "      <td>26.647786</td>\n",
       "      <td>NaN</td>\n",
       "      <td>NaN</td>\n",
       "    </tr>\n",
       "    <tr>\n",
       "      <th>2</th>\n",
       "      <td>93</td>\n",
       "      <td>6.208490</td>\n",
       "      <td>2014-03-01</td>\n",
       "      <td>0.254618</td>\n",
       "      <td>NaN</td>\n",
       "      <td>NaN</td>\n",
       "      <td>NaN</td>\n",
       "    </tr>\n",
       "    <tr>\n",
       "      <th>3</th>\n",
       "      <td>93</td>\n",
       "      <td>10.433339</td>\n",
       "      <td>2014-04-01</td>\n",
       "      <td>0.277936</td>\n",
       "      <td>NaN</td>\n",
       "      <td>NaN</td>\n",
       "      <td>NaN</td>\n",
       "    </tr>\n",
       "    <tr>\n",
       "      <th>4</th>\n",
       "      <td>93</td>\n",
       "      <td>9.160731</td>\n",
       "      <td>2014-05-01</td>\n",
       "      <td>0.238466</td>\n",
       "      <td>NaN</td>\n",
       "      <td>0.812885</td>\n",
       "      <td>NaN</td>\n",
       "    </tr>\n",
       "  </tbody>\n",
       "</table>\n",
       "</div>"
      ],
      "text/plain": [
       "   region_id  precip_new       Date  smos_new   temp_new  ndvi_new  prod\n",
       "0         93    2.541758 2014-01-01  0.287870        NaN  0.740574   NaN\n",
       "1         93    0.326015 2014-02-01  0.272979  26.647786       NaN   NaN\n",
       "2         93    6.208490 2014-03-01  0.254618        NaN       NaN   NaN\n",
       "3         93   10.433339 2014-04-01  0.277936        NaN       NaN   NaN\n",
       "4         93    9.160731 2014-05-01  0.238466        NaN  0.812885   NaN"
      ]
     },
     "execution_count": 22,
     "metadata": {},
     "output_type": "execute_result"
    }
   ],
   "source": [
    "combined2 = pd.merge(precipitation, soil_moisture, how=\"left\", on=[\"Date\", 'region_id'])\n",
    "combined2 = pd.merge(combined2, Temperature, how=\"left\", on=[\"Date\", 'region_id'])\n",
    "combined2 = pd.merge(combined2, ndvi, how=\"left\", on=[\"Date\", 'region_id'])\n",
    "combined2 = pd.merge(combined2, production, how=\"left\", on=[\"Date\", 'region_id'])\n",
    "combined2.head()"
   ]
  },
  {
   "cell_type": "code",
   "execution_count": 23,
   "id": "670fc257",
   "metadata": {},
   "outputs": [],
   "source": [
    "combined2 = combined2.set_index(\"Date\")\n",
    "region_93 = combined2.loc[combined2['region_id'] == 93]"
   ]
  },
  {
   "cell_type": "code",
   "execution_count": 27,
   "id": "a078a1fc",
   "metadata": {},
   "outputs": [
    {
     "data": {
      "text/plain": [
       "<AxesSubplot:xlabel='Date'>"
      ]
     },
     "execution_count": 27,
     "metadata": {},
     "output_type": "execute_result"
    },
    {
     "data": {
      "image/png": "[encoded data removed]",
      "text/plain": [
       "<Figure size 432x288 with 1 Axes>"
      ]
     },
     "metadata": {
      "needs_background": "light"
     },
     "output_type": "display_data"
    }
   ],
   "source": [
    "region_93.plot( y='precip_new')"
   ]
  },
  {
   "cell_type": "code",
   "execution_count": 28,
   "id": "d5622d66",
   "metadata": {},
   "outputs": [
    {
     "data": {
      "text/plain": [
       "<AxesSubplot:xlabel='Date'>"
      ]
     },
     "execution_count": 28,
     "metadata": {},
     "output_type": "execute_result"
    },
    {
     "data": {
      "image/png": "[encoded data removed]",
      "text/plain": [
       "<Figure size 432x288 with 1 Axes>"
      ]
     },
     "metadata": {
      "needs_background": "light"
     },
     "output_type": "display_data"
    }
   ],
   "source": [
    "region_93.plot( y='smos_new')"
   ]
  },
  {
   "cell_type": "code",
   "execution_count": 29,
   "id": "1902c32a",
   "metadata": {},
   "outputs": [
    {
     "data": {
      "text/plain": [
       "<AxesSubplot:xlabel='Date'>"
      ]
     },
     "execution_count": 29,
     "metadata": {},
     "output_type": "execute_result"
    },
    {
     "data": {
      "image/png": "[encoded data removed]",
      "text/plain": [
       "<Figure size 432x288 with 1 Axes>"
      ]
     },
     "metadata": {
      "needs_background": "light"
     },
     "output_type": "display_data"
    }
   ],
   "source": [
    "region_93.plot( y='temp_new')"
   ]
  },
  {
   "cell_type": "code",
   "execution_count": 31,
   "id": "ff6d5115",
   "metadata": {},
   "outputs": [
    {
     "data": {
      "text/plain": [
       "<AxesSubplot:xlabel='Date'>"
      ]
     },
     "execution_count": 31,
     "metadata": {},
     "output_type": "execute_result"
    },
    {
     "data": {
      "image/png": "[encoded data removed]",
      "text/plain": [
       "<Figure size 432x288 with 1 Axes>"
      ]
     },
     "metadata": {
      "needs_background": "light"
     },
     "output_type": "display_data"
    }
   ],
   "source": [
    "region_93.plot( y='ndvi_new')"
   ]
  }
 ],
 "metadata": {
  "kernelspec": {
   "display_name": "Python 3 (ipykernel)",
   "language": "python",
   "name": "python3"
  },
  "language_info": {
   "codemirror_mode": {
    "name": "ipython",
    "version": 3
   },
   "file_extension": ".py",
   "mimetype": "text/x-python",
   "name": "python",
   "nbconvert_exporter": "python",
   "pygments_lexer": "ipython3",
   "version": "3.10.1"
  }
 },
 "nbformat": 4,
 "nbformat_minor": 5
}
